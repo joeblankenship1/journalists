{
 "cells": [
  {
   "cell_type": "markdown",
   "metadata": {},
   "source": [
    "## Examine the data"
   ]
  },
  {
   "cell_type": "code",
   "execution_count": 1,
   "metadata": {},
   "outputs": [],
   "source": [
    "import pandas as pd\n",
    "import matplotlib.pyplot as plt\n",
    "\n",
    "%matplotlib inline"
   ]
  },
  {
   "cell_type": "code",
   "execution_count": 2,
   "metadata": {},
   "outputs": [
    {
     "data": {
      "text/html": [
       "<div>\n",
       "<style scoped>\n",
       "    .dataframe tbody tr th:only-of-type {\n",
       "        vertical-align: middle;\n",
       "    }\n",
       "\n",
       "    .dataframe tbody tr th {\n",
       "        vertical-align: top;\n",
       "    }\n",
       "\n",
       "    .dataframe thead th {\n",
       "        text-align: right;\n",
       "    }\n",
       "</style>\n",
       "<table border=\"1\" class=\"dataframe\">\n",
       "  <thead>\n",
       "    <tr style=\"text-align: right;\">\n",
       "      <th></th>\n",
       "      <th>Name</th>\n",
       "      <th>Organization</th>\n",
       "      <th>Date</th>\n",
       "      <th>Location</th>\n",
       "      <th>Killed</th>\n",
       "      <th>Type Of Death</th>\n",
       "      <th>Specific Location</th>\n",
       "      <th>Job</th>\n",
       "      <th>Medium</th>\n",
       "      <th>Coverage</th>\n",
       "      <th>...</th>\n",
       "      <th>Freelance</th>\n",
       "      <th>Charge</th>\n",
       "      <th>Sentence Length</th>\n",
       "      <th>Health Problems</th>\n",
       "      <th>Source of Fire</th>\n",
       "      <th>Impunity</th>\n",
       "      <th>Captive</th>\n",
       "      <th>Tortured</th>\n",
       "      <th>Threatened</th>\n",
       "      <th>Description</th>\n",
       "    </tr>\n",
       "  </thead>\n",
       "  <tbody>\n",
       "    <tr>\n",
       "      <th>0</th>\n",
       "      <td>Ahmad [full name unavailable]</td>\n",
       "      <td>Al-shaabiya</td>\n",
       "      <td>October 12, 2006</td>\n",
       "      <td>Iraq</td>\n",
       "      <td>Killed</td>\n",
       "      <td>Unknown</td>\n",
       "      <td>Baghdad</td>\n",
       "      <td>NaN</td>\n",
       "      <td>NaN</td>\n",
       "      <td>NaN</td>\n",
       "      <td>...</td>\n",
       "      <td>No</td>\n",
       "      <td>NaN</td>\n",
       "      <td>NaN</td>\n",
       "      <td>NaN</td>\n",
       "      <td>NaN</td>\n",
       "      <td>NaN</td>\n",
       "      <td>NaN</td>\n",
       "      <td>NaN</td>\n",
       "      <td>NaN</td>\n",
       "      <td>Masked gunmen in at least five vehicles drove ...</td>\n",
       "    </tr>\n",
       "  </tbody>\n",
       "</table>\n",
       "<p>1 rows × 22 columns</p>\n",
       "</div>"
      ],
      "text/plain": [
       "                            Name Organization              Date Location  \\\n",
       "0  Ahmad [full name unavailable]  Al-shaabiya  October 12, 2006     Iraq   \n",
       "\n",
       "   Killed Type Of Death Specific Location  Job Medium Coverage  \\\n",
       "0  Killed       Unknown           Baghdad  NaN    NaN      NaN   \n",
       "\n",
       "                         ...                         Freelance Charge  \\\n",
       "0                        ...                                No    NaN   \n",
       "\n",
       "  Sentence Length Health Problems Source of Fire Impunity Captive Tortured  \\\n",
       "0             NaN             NaN            NaN      NaN     NaN      NaN   \n",
       "\n",
       "  Threatened                                        Description  \n",
       "0        NaN  Masked gunmen in at least five vehicles drove ...  \n",
       "\n",
       "[1 rows x 22 columns]"
      ]
     },
     "execution_count": 2,
     "metadata": {},
     "output_type": "execute_result"
    }
   ],
   "source": [
    "journalist_raw = pd.read_csv(\"cpj_scraped_data.csv\")\n",
    "journalist_raw.head(1)"
   ]
  },
  {
   "cell_type": "code",
   "execution_count": 3,
   "metadata": {},
   "outputs": [
    {
     "data": {
      "text/plain": [
       "Index(['Name', 'Organization', 'Date', 'Location', 'Killed', 'Type Of Death',\n",
       "       'Specific Location', 'Job', 'Medium', 'Coverage', 'Gender',\n",
       "       'Local/Foreign', 'Freelance', 'Charge', 'Sentence Length',\n",
       "       'Health Problems', 'Source of Fire', 'Impunity', 'Captive', 'Tortured',\n",
       "       'Threatened', 'Description'],\n",
       "      dtype='object')"
      ]
     },
     "execution_count": 3,
     "metadata": {},
     "output_type": "execute_result"
    }
   ],
   "source": [
    "journalist_raw.columns"
   ]
  },
  {
   "cell_type": "code",
   "execution_count": 5,
   "metadata": {},
   "outputs": [
    {
     "data": {
      "text/html": [
       "<div>\n",
       "<style scoped>\n",
       "    .dataframe tbody tr th:only-of-type {\n",
       "        vertical-align: middle;\n",
       "    }\n",
       "\n",
       "    .dataframe tbody tr th {\n",
       "        vertical-align: top;\n",
       "    }\n",
       "\n",
       "    .dataframe thead th {\n",
       "        text-align: right;\n",
       "    }\n",
       "</style>\n",
       "<table border=\"1\" class=\"dataframe\">\n",
       "  <thead>\n",
       "    <tr style=\"text-align: right;\">\n",
       "      <th></th>\n",
       "      <th>Name</th>\n",
       "      <th>Organization</th>\n",
       "      <th>Date</th>\n",
       "      <th>Location</th>\n",
       "      <th>Killed</th>\n",
       "      <th>Type Of Death</th>\n",
       "      <th>Specific Location</th>\n",
       "      <th>Job</th>\n",
       "      <th>Medium</th>\n",
       "      <th>Coverage</th>\n",
       "      <th>...</th>\n",
       "      <th>Freelance</th>\n",
       "      <th>Charge</th>\n",
       "      <th>Sentence Length</th>\n",
       "      <th>Health Problems</th>\n",
       "      <th>Source of Fire</th>\n",
       "      <th>Impunity</th>\n",
       "      <th>Captive</th>\n",
       "      <th>Tortured</th>\n",
       "      <th>Threatened</th>\n",
       "      <th>Description</th>\n",
       "    </tr>\n",
       "  </thead>\n",
       "  <tbody>\n",
       "    <tr>\n",
       "      <th>count</th>\n",
       "      <td>1916</td>\n",
       "      <td>1916</td>\n",
       "      <td>1916</td>\n",
       "      <td>1916</td>\n",
       "      <td>1916</td>\n",
       "      <td>1916</td>\n",
       "      <td>1897</td>\n",
       "      <td>1278</td>\n",
       "      <td>1284</td>\n",
       "      <td>1269</td>\n",
       "      <td>...</td>\n",
       "      <td>1851</td>\n",
       "      <td>1</td>\n",
       "      <td>1</td>\n",
       "      <td>2</td>\n",
       "      <td>1279</td>\n",
       "      <td>821</td>\n",
       "      <td>1138</td>\n",
       "      <td>1137</td>\n",
       "      <td>1168</td>\n",
       "      <td>1887</td>\n",
       "    </tr>\n",
       "    <tr>\n",
       "      <th>unique</th>\n",
       "      <td>1912</td>\n",
       "      <td>1298</td>\n",
       "      <td>1534</td>\n",
       "      <td>110</td>\n",
       "      <td>1</td>\n",
       "      <td>30</td>\n",
       "      <td>985</td>\n",
       "      <td>78</td>\n",
       "      <td>23</td>\n",
       "      <td>82</td>\n",
       "      <td>...</td>\n",
       "      <td>3</td>\n",
       "      <td>1</td>\n",
       "      <td>1</td>\n",
       "      <td>2</td>\n",
       "      <td>23</td>\n",
       "      <td>4</td>\n",
       "      <td>3</td>\n",
       "      <td>3</td>\n",
       "      <td>32</td>\n",
       "      <td>1830</td>\n",
       "    </tr>\n",
       "    <tr>\n",
       "      <th>top</th>\n",
       "      <td>Unidentified</td>\n",
       "      <td>Freelance</td>\n",
       "      <td>November 23, 2009</td>\n",
       "      <td>Iraq</td>\n",
       "      <td>Killed</td>\n",
       "      <td>Murder</td>\n",
       "      <td>Baghdad</td>\n",
       "      <td>Print Reporter</td>\n",
       "      <td>Print</td>\n",
       "      <td>War</td>\n",
       "      <td>...</td>\n",
       "      <td>No</td>\n",
       "      <td>Charge</td>\n",
       "      <td>Sentence Length</td>\n",
       "      <td>Political Group</td>\n",
       "      <td>Political Group</td>\n",
       "      <td>Complete Impunity</td>\n",
       "      <td>No</td>\n",
       "      <td>No</td>\n",
       "      <td>No</td>\n",
       "      <td>In the deadliest event for the press ever reco...</td>\n",
       "    </tr>\n",
       "    <tr>\n",
       "      <th>freq</th>\n",
       "      <td>4</td>\n",
       "      <td>178</td>\n",
       "      <td>32</td>\n",
       "      <td>277</td>\n",
       "      <td>1916</td>\n",
       "      <td>838</td>\n",
       "      <td>110</td>\n",
       "      <td>265</td>\n",
       "      <td>503</td>\n",
       "      <td>281</td>\n",
       "      <td>...</td>\n",
       "      <td>1565</td>\n",
       "      <td>1</td>\n",
       "      <td>1</td>\n",
       "      <td>1</td>\n",
       "      <td>419</td>\n",
       "      <td>706</td>\n",
       "      <td>940</td>\n",
       "      <td>1034</td>\n",
       "      <td>809</td>\n",
       "      <td>26</td>\n",
       "    </tr>\n",
       "  </tbody>\n",
       "</table>\n",
       "<p>4 rows × 22 columns</p>\n",
       "</div>"
      ],
      "text/plain": [
       "                Name Organization               Date Location  Killed  \\\n",
       "count           1916         1916               1916     1916    1916   \n",
       "unique          1912         1298               1534      110       1   \n",
       "top     Unidentified    Freelance  November 23, 2009     Iraq  Killed   \n",
       "freq               4          178                 32      277    1916   \n",
       "\n",
       "       Type Of Death Specific Location             Job Medium Coverage  \\\n",
       "count           1916              1897            1278   1284     1269   \n",
       "unique            30               985              78     23       82   \n",
       "top           Murder           Baghdad  Print Reporter  Print      War   \n",
       "freq             838               110             265    503      281   \n",
       "\n",
       "                              ...                         Freelance  Charge  \\\n",
       "count                         ...                              1851       1   \n",
       "unique                        ...                                 3       1   \n",
       "top                           ...                                No  Charge   \n",
       "freq                          ...                              1565       1   \n",
       "\n",
       "        Sentence Length  Health Problems   Source of Fire           Impunity  \\\n",
       "count                 1                2             1279                821   \n",
       "unique                1                2               23                  4   \n",
       "top     Sentence Length  Political Group  Political Group  Complete Impunity   \n",
       "freq                  1                1              419                706   \n",
       "\n",
       "       Captive Tortured Threatened  \\\n",
       "count     1138     1137       1168   \n",
       "unique       3        3         32   \n",
       "top         No       No         No   \n",
       "freq       940     1034        809   \n",
       "\n",
       "                                              Description  \n",
       "count                                                1887  \n",
       "unique                                               1830  \n",
       "top     In the deadliest event for the press ever reco...  \n",
       "freq                                                   26  \n",
       "\n",
       "[4 rows x 22 columns]"
      ]
     },
     "execution_count": 5,
     "metadata": {},
     "output_type": "execute_result"
    }
   ],
   "source": [
    "journalist_raw.describe()"
   ]
  },
  {
   "cell_type": "code",
   "execution_count": null,
   "metadata": {},
   "outputs": [],
   "source": []
  },
  {
   "cell_type": "code",
   "execution_count": null,
   "metadata": {},
   "outputs": [],
   "source": [
    "journalist_raw.Name.value_counts()"
   ]
  },
  {
   "cell_type": "code",
   "execution_count": null,
   "metadata": {},
   "outputs": [],
   "source": [
    "journalist_raw.Organization.value_counts()"
   ]
  },
  {
   "cell_type": "code",
   "execution_count": null,
   "metadata": {},
   "outputs": [],
   "source": [
    "journalist_raw.Date.value_counts()"
   ]
  },
  {
   "cell_type": "code",
   "execution_count": null,
   "metadata": {},
   "outputs": [],
   "source": [
    "journalist_raw.Location.value_counts()"
   ]
  },
  {
   "cell_type": "code",
   "execution_count": null,
   "metadata": {},
   "outputs": [],
   "source": [
    "journalist_raw.Killed.value_counts()"
   ]
  },
  {
   "cell_type": "code",
   "execution_count": null,
   "metadata": {},
   "outputs": [],
   "source": [
    "journalist_raw['Type Of Death'].value_counts() "
   ]
  },
  {
   "cell_type": "code",
   "execution_count": null,
   "metadata": {},
   "outputs": [],
   "source": [
    "journalist_raw['Specific Location'].value_counts()"
   ]
  },
  {
   "cell_type": "code",
   "execution_count": null,
   "metadata": {},
   "outputs": [],
   "source": [
    "journalist_raw.Job.value_counts()"
   ]
  },
  {
   "cell_type": "code",
   "execution_count": null,
   "metadata": {},
   "outputs": [],
   "source": [
    "journalist_raw.Medium.value_counts()"
   ]
  },
  {
   "cell_type": "code",
   "execution_count": null,
   "metadata": {},
   "outputs": [],
   "source": [
    "journalist_raw.Coverage.value_counts()"
   ]
  },
  {
   "cell_type": "code",
   "execution_count": null,
   "metadata": {},
   "outputs": [],
   "source": [
    "journalist_raw.Gender.value_counts()"
   ]
  },
  {
   "cell_type": "code",
   "execution_count": null,
   "metadata": {},
   "outputs": [],
   "source": [
    "journalist_raw['Local/Foreign'].value_counts()"
   ]
  },
  {
   "cell_type": "code",
   "execution_count": null,
   "metadata": {},
   "outputs": [],
   "source": [
    "journalist_raw.Freelance.value_counts()"
   ]
  },
  {
   "cell_type": "code",
   "execution_count": null,
   "metadata": {},
   "outputs": [],
   "source": [
    "journalist_raw.Charge.value_counts()"
   ]
  },
  {
   "cell_type": "code",
   "execution_count": null,
   "metadata": {},
   "outputs": [],
   "source": [
    "journalist_raw['Sentence Length'].value_counts()"
   ]
  },
  {
   "cell_type": "code",
   "execution_count": null,
   "metadata": {},
   "outputs": [],
   "source": [
    "journalist_raw['Health Problems'].value_counts()"
   ]
  },
  {
   "cell_type": "code",
   "execution_count": null,
   "metadata": {},
   "outputs": [],
   "source": [
    "journalist_raw['Source of Fire'].value_counts()"
   ]
  },
  {
   "cell_type": "code",
   "execution_count": null,
   "metadata": {},
   "outputs": [],
   "source": [
    "journalist_raw.Impunity.value_counts()"
   ]
  },
  {
   "cell_type": "code",
   "execution_count": null,
   "metadata": {},
   "outputs": [],
   "source": [
    "journalist_raw.Captive.value_counts()"
   ]
  },
  {
   "cell_type": "code",
   "execution_count": null,
   "metadata": {},
   "outputs": [],
   "source": [
    "journalist_raw.Tortured.value_counts()"
   ]
  },
  {
   "cell_type": "code",
   "execution_count": null,
   "metadata": {},
   "outputs": [],
   "source": [
    "journalist_raw.Threatened.value_counts()"
   ]
  },
  {
   "cell_type": "code",
   "execution_count": null,
   "metadata": {},
   "outputs": [],
   "source": []
  },
  {
   "cell_type": "markdown",
   "metadata": {},
   "source": [
    "## Column Fixes"
   ]
  },
  {
   "cell_type": "markdown",
   "metadata": {},
   "source": [
    "### Fix column names"
   ]
  },
  {
   "cell_type": "code",
   "execution_count": null,
   "metadata": {},
   "outputs": [],
   "source": []
  },
  {
   "cell_type": "markdown",
   "metadata": {},
   "source": [
    "### Fix row alignment issues (after 'Killed)"
   ]
  },
  {
   "cell_type": "code",
   "execution_count": null,
   "metadata": {},
   "outputs": [],
   "source": [
    "# remove row 1900\n",
    "# sort by 'Threatened'\n",
    "    # if item in Threatened is != 'Yes', 'No', or NaN\n",
    "    # shift content in row from column ? to Description\n",
    "    # test first by printing all row condition == True in order to find column ? above\n",
    "\n",
    "# rerun command above to see if any other spurious data issues\n",
    "# Build tests\n",
    "# eliminate non-issue processes below"
   ]
  },
  {
   "cell_type": "markdown",
   "metadata": {},
   "source": [
    "### Entity Resolution per Column"
   ]
  },
  {
   "cell_type": "code",
   "execution_count": null,
   "metadata": {},
   "outputs": [],
   "source": [
    "# remove Killed, Charge, Sentence Length, Health Problems"
   ]
  },
  {
   "cell_type": "code",
   "execution_count": null,
   "metadata": {},
   "outputs": [],
   "source": [
    "journalist_raw['Organization'] = journalist_raw['Organization'].replace(['Freelancer'], 'Freelance') "
   ]
  },
  {
   "cell_type": "code",
   "execution_count": null,
   "metadata": {},
   "outputs": [],
   "source": [
    "# fix Date range issue\n",
    "journalist_raw['Date'] = journalist_raw['Date'].replace()"
   ]
  },
  {
   "cell_type": "code",
   "execution_count": null,
   "metadata": {},
   "outputs": [],
   "source": [
    "journalist_raw['Tortured'] = journalist_raw['Tortured'].replace(['Tortured'], 'Yes')"
   ]
  },
  {
   "cell_type": "code",
   "execution_count": null,
   "metadata": {},
   "outputs": [],
   "source": [
    "# geocode countries"
   ]
  },
  {
   "cell_type": "code",
   "execution_count": null,
   "metadata": {},
   "outputs": [],
   "source": [
    "# geocode specific location"
   ]
  },
  {
   "cell_type": "code",
   "execution_count": null,
   "metadata": {},
   "outputs": [],
   "source": [
    "# parse and resort Job (comma delimited)"
   ]
  },
  {
   "cell_type": "code",
   "execution_count": null,
   "metadata": {},
   "outputs": [],
   "source": [
    "# parse and resort Medium (comma delimited)"
   ]
  },
  {
   "cell_type": "code",
   "execution_count": null,
   "metadata": {},
   "outputs": [],
   "source": [
    "# parse and resort Coverage (comma delimited)"
   ]
  },
  {
   "cell_type": "code",
   "execution_count": null,
   "metadata": {},
   "outputs": [],
   "source": [
    "# examine and reclass Gender"
   ]
  },
  {
   "cell_type": "code",
   "execution_count": null,
   "metadata": {},
   "outputs": [],
   "source": [
    "# examine and reclass Local/Foreign"
   ]
  },
  {
   "cell_type": "code",
   "execution_count": null,
   "metadata": {},
   "outputs": [],
   "source": [
    "# examine reclass Freelance"
   ]
  },
  {
   "cell_type": "code",
   "execution_count": null,
   "metadata": {},
   "outputs": [],
   "source": [
    "# parse and resort Source of Fire"
   ]
  },
  {
   "cell_type": "code",
   "execution_count": null,
   "metadata": {},
   "outputs": [],
   "source": [
    "# examine and reclass Impunity"
   ]
  },
  {
   "cell_type": "code",
   "execution_count": null,
   "metadata": {},
   "outputs": [],
   "source": [
    "# examine and reclass Captive"
   ]
  },
  {
   "cell_type": "code",
   "execution_count": null,
   "metadata": {},
   "outputs": [],
   "source": [
    "# examine and reclass Tortured"
   ]
  },
  {
   "cell_type": "code",
   "execution_count": null,
   "metadata": {},
   "outputs": [],
   "source": [
    "# examine and reclass Threatened"
   ]
  },
  {
   "cell_type": "code",
   "execution_count": null,
   "metadata": {},
   "outputs": [],
   "source": []
  },
  {
   "cell_type": "code",
   "execution_count": null,
   "metadata": {},
   "outputs": [],
   "source": []
  },
  {
   "cell_type": "markdown",
   "metadata": {},
   "source": [
    "## Tests"
   ]
  },
  {
   "cell_type": "code",
   "execution_count": null,
   "metadata": {},
   "outputs": [],
   "source": []
  },
  {
   "cell_type": "markdown",
   "metadata": {},
   "source": [
    "## Pipeline"
   ]
  },
  {
   "cell_type": "code",
   "execution_count": null,
   "metadata": {},
   "outputs": [],
   "source": [
    "# Build function(s) here"
   ]
  },
  {
   "cell_type": "code",
   "execution_count": null,
   "metadata": {},
   "outputs": [],
   "source": [
    "# Export to sqlite with matching schema (see models.py)"
   ]
  },
  {
   "cell_type": "code",
   "execution_count": null,
   "metadata": {},
   "outputs": [],
   "source": []
  }
 ],
 "metadata": {
  "kernelspec": {
   "display_name": "Python 3",
   "language": "python",
   "name": "python3"
  },
  "language_info": {
   "codemirror_mode": {
    "name": "ipython",
    "version": 3
   },
   "file_extension": ".py",
   "mimetype": "text/x-python",
   "name": "python",
   "nbconvert_exporter": "python",
   "pygments_lexer": "ipython3",
   "version": "3.6.5"
  }
 },
 "nbformat": 4,
 "nbformat_minor": 2
}
